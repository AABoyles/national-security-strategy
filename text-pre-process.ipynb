{
 "metadata": {
  "name": "",
  "signature": "sha256:dbd262933416e3df7ae99340b91bf1e2eab0eb95c5dc060cda6b4549ca0b6f1c"
 },
 "nbformat": 3,
 "nbformat_minor": 0,
 "worksheets": [
  {
   "cells": [
    {
     "cell_type": "markdown",
     "metadata": {},
     "source": [
      "National Security Strategy Archive Pre-Processing:\n",
      "=====\n",
      "Document Source: http://nssarchive.us/\n",
      "\n",
      "PDFs Downloaded Manually\n",
      "\n",
      "TIKA Server Requires Docker: https://docs.docker.com/installation/    "
     ]
    },
    {
     "cell_type": "markdown",
     "metadata": {},
     "source": [
      "Tika Server Setup:\n",
      "-----"
     ]
    },
    {
     "cell_type": "code",
     "collapsed": false,
     "input": [
      "%%bash\n",
      "sudo docker pull logicalspark/docker-tikaserver\n",
      "sudo docker run -d -p 9998:9998 logicalspark/docker-tikaserver"
     ],
     "language": "python",
     "metadata": {},
     "outputs": []
    },
    {
     "cell_type": "markdown",
     "metadata": {},
     "source": [
      "Check to see if Tika is ready:"
     ]
    },
    {
     "cell_type": "code",
     "collapsed": false,
     "input": [
      "%%bash\n",
      "curl -X GET http://localhost:9998/tika"
     ],
     "language": "python",
     "metadata": {},
     "outputs": [
      {
       "output_type": "stream",
       "stream": "stdout",
       "text": [
        "This is Tika Server. Please PUT\n"
       ]
      },
      {
       "output_type": "stream",
       "stream": "stderr",
       "text": [
        "  % Total    % Received % Xferd  Average Speed   Time    Time     Time  Current\n",
        "                                 Dload  Upload   Total   Spent    Left  Speed\n",
        "\r",
        "  0     0    0     0    0     0      0      0 --:--:-- --:--:-- --:--:--     0\r",
        "100    32  100    32    0     0   8822      0 --:--:-- --:--:-- --:--:-- 10666\n"
       ]
      }
     ],
     "prompt_number": 176
    },
    {
     "cell_type": "markdown",
     "metadata": {},
     "source": [
      "Extract text from PDFs:"
     ]
    },
    {
     "cell_type": "code",
     "collapsed": false,
     "input": [
      "import glob as g\n",
      "import requests\n",
      "import codecs\n",
      "import json\n",
      "\n",
      "tika_url = \"http://localhost:9998/rmeta\"\n",
      "pdf_directory = \"/home/igor/natsec/pdf/\"\n",
      "text_directory = \"/home/igor/natsec/tika_txt/\""
     ],
     "language": "python",
     "metadata": {},
     "outputs": [],
     "prompt_number": 182
    },
    {
     "cell_type": "code",
     "collapsed": false,
     "input": [
      "for pdf_file in g.glob(pdf_directory+\"*.pdf\"):\n",
      "    with open(pdf_file) as pdf:\n",
      "        # Send To Tika:\n",
      "        response = requests.put(tika_url, data=pdf.read(), params={'file': pdf.name})\n",
      "        text = json.loads(response.text)[0]['X-TIKA:content']\n",
      "        \n",
      "        # Write Text:\n",
      "        year = pdf.name.split('/')[-1][:4]\n",
      "        \n",
      "        text_file = text_directory+\"%s_national_security_strategy.txt\" % year\n",
      "        f = codecs.open(text_file, \"w\", \"utf-8\")\n",
      "        f.write(text)\n",
      "        \n",
      "        print \"Processed: %s\" % f.name\n",
      "        \n",
      "        f.close()"
     ],
     "language": "python",
     "metadata": {},
     "outputs": [
      {
       "output_type": "stream",
       "stream": "stdout",
       "text": [
        "Processed: /home/igor/natsec/tika_txt/2015_national_security_strategy.txt\n",
        "Processed: /home/igor/natsec/tika_txt/2006_national_security_strategy.txt"
       ]
      },
      {
       "output_type": "stream",
       "stream": "stdout",
       "text": [
        "\n",
        "Processed: /home/igor/natsec/tika_txt/2010_national_security_strategy.txt"
       ]
      },
      {
       "output_type": "stream",
       "stream": "stdout",
       "text": [
        "\n",
        "Processed: /home/igor/natsec/tika_txt/1990_national_security_strategy.txt"
       ]
      },
      {
       "output_type": "stream",
       "stream": "stdout",
       "text": [
        "\n",
        "Processed: /home/igor/natsec/tika_txt/2002_national_security_strategy.txt"
       ]
      },
      {
       "output_type": "stream",
       "stream": "stdout",
       "text": [
        "\n",
        "Processed: /home/igor/natsec/tika_txt/1997_national_security_strategy.txt"
       ]
      },
      {
       "output_type": "stream",
       "stream": "stdout",
       "text": [
        "\n",
        "Processed: /home/igor/natsec/tika_txt/1987_national_security_strategy.txt"
       ]
      },
      {
       "output_type": "stream",
       "stream": "stdout",
       "text": [
        "\n",
        "Processed: /home/igor/natsec/tika_txt/2000_national_security_strategy.txt"
       ]
      },
      {
       "output_type": "stream",
       "stream": "stdout",
       "text": [
        "\n",
        "Processed: /home/igor/natsec/tika_txt/1994_national_security_strategy.txt"
       ]
      },
      {
       "output_type": "stream",
       "stream": "stdout",
       "text": [
        "\n",
        "Processed: /home/igor/natsec/tika_txt/1991_national_security_strategy.txt"
       ]
      },
      {
       "output_type": "stream",
       "stream": "stdout",
       "text": [
        "\n",
        "Processed: /home/igor/natsec/tika_txt/1995_national_security_strategy.txt"
       ]
      },
      {
       "output_type": "stream",
       "stream": "stdout",
       "text": [
        "\n",
        "Processed: /home/igor/natsec/tika_txt/1998_national_security_strategy.txt"
       ]
      },
      {
       "output_type": "stream",
       "stream": "stdout",
       "text": [
        "\n",
        "Processed: /home/igor/natsec/tika_txt/1988_national_security_strategy.txt"
       ]
      },
      {
       "output_type": "stream",
       "stream": "stdout",
       "text": [
        "\n",
        "Processed: /home/igor/natsec/tika_txt/2001_national_security_strategy.txt"
       ]
      },
      {
       "output_type": "stream",
       "stream": "stdout",
       "text": [
        "\n",
        "Processed: /home/igor/natsec/tika_txt/1993_national_security_strategy.txt"
       ]
      },
      {
       "output_type": "stream",
       "stream": "stdout",
       "text": [
        "\n",
        "Processed: /home/igor/natsec/tika_txt/1996_national_security_strategy.txt"
       ]
      },
      {
       "output_type": "stream",
       "stream": "stdout",
       "text": [
        "\n"
       ]
      }
     ],
     "prompt_number": 183
    },
    {
     "cell_type": "markdown",
     "metadata": {},
     "source": [
      "Some extra cleaning steps to fix hyphe-nated words, remove Page Numbers, fix  whitespace etc. Helps with tokenizing later."
     ]
    },
    {
     "cell_type": "code",
     "collapsed": false,
     "input": [
      "import unicodedata\n",
      "import ftfy # This is great! http://ftfy.readthedocs.org/en/latest/\n",
      "import re"
     ],
     "language": "python",
     "metadata": {},
     "outputs": [],
     "prompt_number": 184
    },
    {
     "cell_type": "code",
     "collapsed": false,
     "input": [
      "for text_file in g.glob(text_directory+'*.txt'):\n",
      "    with codecs.open(text_file, \"r\", \"utf-8\") as txt:\n",
      "        text = u\"\"\n",
      "        # Fix trailing, double spaces\n",
      "        for line in txt:\n",
      "            line = u' '.join(line.split()).rstrip(' ')\n",
      "            text += line + \"\\n\"\n",
      "        \n",
      "        # Fix multiple newlines\n",
      "        # 1987 & 2002 need extra cleaning:\n",
      "        if \"1987\" or \"2002\" in text_file:\n",
      "            text = re.sub(\"([\\w])\\n\\n([\\w])\", r\"\\1 \\2\", text)\n",
      "        else:           \n",
      "            text = re.sub(\"\\n\\n\\n*\", \"\\n\\n\", text)\n",
      "\n",
      "        # Fix paragraphs for 199x\n",
      "        #text = re.sub(\"([a-z,;.])\\n([a-z\\\"])\", r\"\\1 \\2\", text)\n",
      "        text = re.sub(\"([\\w[,;.])\\n([a-z\\\"])\", r\"\\1 \\2\", text)\n",
      "\n",
      "        # Fix hypthenated words:\n",
      "        text = re.sub(\"-\\n([a-z])\", r\"\\1\", text)\n",
      "\n",
      "        # em dashes \\u2014\n",
      "        text = re.sub(u\"(\\w*)\\u2014(\\w*)\", r\"\\1 - \\2\", text)\n",
      "\n",
      "        #Bullet points \\u2022\n",
      "        text = re.sub(u\"\\u2022\", r\"*\", text)\n",
      "        \n",
      "        # Remove Headers\n",
      "        text = re.sub(r\"\\nNAT I O NA L S E C U R I T Y S T R AT E G Y\\n\\n\", \"\", text)\n",
      "        text = re.sub(r\"NAT I O NA L S E C U R I T Y S T R AT E G Y\", \"\", text)\n",
      "        text = re.sub(r\"\\nNaTIONal SeCurITy STraTegy\\n\\n\", \"\", text)\n",
      "        text = re.sub(r\"_____________________________________________________________________________________________________________________\\nNational Security Strategy\", \"\", text)\n",
      "        text = re.sub(r\"\\nNational Security Strategy [0-9]+\\n\", \"\", text)\n",
      "        text = re.sub(r\"\\n[0-9]+ National Security Strategy\\n\", \"\", text)\n",
      "\n",
      "        # cleanup page numbers: 3\u2605 \u2605 \\u2605\n",
      "        text = re.sub(u\"[0-9]+\\u2605 \\u2605\", \"\", text)\n",
      "        # page numbers\n",
      "        text = re.sub(u\"\\n[0-9]+\\n\\n\", \"\\n\\n\", text)\n",
      "\n",
      "        # Fix everything else:\n",
      "        text = ftfy.fix_text(text)\n",
      "        \n",
      "        # Write Cleaned Text:\n",
      "        f = codecs.open(txt.name.replace(\"tika_txt\",\"tika_txt_clean\"), \"w\", \"utf-8\")\n",
      "        f.write( text )\n",
      "        print \"Processed: %s\" % f.name\n",
      "        f.close()"
     ],
     "language": "python",
     "metadata": {},
     "outputs": [
      {
       "output_type": "stream",
       "stream": "stdout",
       "text": [
        "Processed: /home/igor/natsec/tika_txt_clean/2000_national_security_strategy.txt\n",
        "Processed: /home/igor/natsec/tika_txt_clean/1994_national_security_strategy.txt"
       ]
      },
      {
       "output_type": "stream",
       "stream": "stdout",
       "text": [
        "\n",
        "Processed: /home/igor/natsec/tika_txt_clean/1988_national_security_strategy.txt"
       ]
      },
      {
       "output_type": "stream",
       "stream": "stdout",
       "text": [
        "\n",
        "Processed: /home/igor/natsec/tika_txt_clean/2010_national_security_strategy.txt"
       ]
      },
      {
       "output_type": "stream",
       "stream": "stdout",
       "text": [
        "\n",
        "Processed: /home/igor/natsec/tika_txt_clean/1998_national_security_strategy.txt"
       ]
      },
      {
       "output_type": "stream",
       "stream": "stdout",
       "text": [
        "\n",
        "Processed: /home/igor/natsec/tika_txt_clean/1990_national_security_strategy.txt"
       ]
      },
      {
       "output_type": "stream",
       "stream": "stdout",
       "text": [
        "\n",
        "Processed: /home/igor/natsec/tika_txt_clean/2002_national_security_strategy.txt"
       ]
      },
      {
       "output_type": "stream",
       "stream": "stdout",
       "text": [
        "\n",
        "Processed: /home/igor/natsec/tika_txt_clean/2001_national_security_strategy.txt"
       ]
      },
      {
       "output_type": "stream",
       "stream": "stdout",
       "text": [
        "\n",
        "Processed: /home/igor/natsec/tika_txt_clean/2006_national_security_strategy.txt"
       ]
      },
      {
       "output_type": "stream",
       "stream": "stdout",
       "text": [
        "\n",
        "Processed: /home/igor/natsec/tika_txt_clean/1997_national_security_strategy.txt"
       ]
      },
      {
       "output_type": "stream",
       "stream": "stdout",
       "text": [
        "\n",
        "Processed: /home/igor/natsec/tika_txt_clean/1987_national_security_strategy.txt"
       ]
      },
      {
       "output_type": "stream",
       "stream": "stdout",
       "text": [
        "\n",
        "Processed: /home/igor/natsec/tika_txt_clean/1993_national_security_strategy.txt"
       ]
      },
      {
       "output_type": "stream",
       "stream": "stdout",
       "text": [
        "\n",
        "Processed: /home/igor/natsec/tika_txt_clean/1999_national_security_strategy.txt"
       ]
      },
      {
       "output_type": "stream",
       "stream": "stdout",
       "text": [
        "\n",
        "Processed: /home/igor/natsec/tika_txt_clean/1991_national_security_strategy.txt"
       ]
      },
      {
       "output_type": "stream",
       "stream": "stdout",
       "text": [
        "\n",
        "Processed: /home/igor/natsec/tika_txt_clean/1996_national_security_strategy.txt"
       ]
      },
      {
       "output_type": "stream",
       "stream": "stdout",
       "text": [
        "\n",
        "Processed: /home/igor/natsec/tika_txt_clean/1995_national_security_strategy.txt"
       ]
      },
      {
       "output_type": "stream",
       "stream": "stdout",
       "text": [
        "\n",
        "Processed: /home/igor/natsec/tika_txt_clean/2015_national_security_strategy.txt"
       ]
      },
      {
       "output_type": "stream",
       "stream": "stdout",
       "text": [
        "\n"
       ]
      }
     ],
     "prompt_number": 188
    },
    {
     "cell_type": "code",
     "collapsed": false,
     "input": [],
     "language": "python",
     "metadata": {},
     "outputs": []
    }
   ],
   "metadata": {}
  }
 ]
}